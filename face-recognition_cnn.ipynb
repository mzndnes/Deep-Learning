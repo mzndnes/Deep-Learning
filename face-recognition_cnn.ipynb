{
  "nbformat": 4,
  "nbformat_minor": 0,
  "metadata": {
    "colab": {
      "name": "fr_cnn.ipynb",
      "provenance": [],
      "mount_file_id": "1TAkywIHHXCpHxw2XSmoY_dp5pKiWkxYX",
      "authorship_tag": "ABX9TyOFvbITwH9z0EFyC1+s4o3m",
      "include_colab_link": true
    },
    "kernelspec": {
      "name": "python3",
      "display_name": "Python 3"
    }
  },
  "cells": [
    {
      "cell_type": "markdown",
      "metadata": {
        "id": "view-in-github",
        "colab_type": "text"
      },
      "source": [
        "<a href=\"https://colab.research.google.com/github/mzndnes/Deep-Learning/blob/main/face-recognition_cnn.ipynb\" target=\"_parent\"><img src=\"https://colab.research.google.com/assets/colab-badge.svg\" alt=\"Open In Colab\"/></a>"
      ]
    },
    {
      "cell_type": "code",
      "metadata": {
        "id": "hs9ZKw5gCNkW",
        "colab": {
          "base_uri": "https://localhost:8080/",
          "height": 136
        },
        "outputId": "ce0e21e0-f5cf-4d4a-ebb5-48508d240a10"
      },
      "source": [
        "# import pandas as pd\n",
        "df=pd.read_csv('./drive/My Drive/data/fer2013.csv')\n",
        "\n",
        "print(df.head())\n",
        "print(len(df))"
      ],
      "execution_count": null,
      "outputs": [
        {
          "output_type": "stream",
          "text": [
            "   emotion                                             pixels     Usage\n",
            "0        0  70 80 82 72 58 58 60 63 54 58 60 48 89 115 121...  Training\n",
            "1        0  151 150 147 155 148 133 111 140 170 174 182 15...  Training\n",
            "2        2  231 212 156 164 174 138 161 173 182 200 106 38...  Training\n",
            "3        4  24 32 36 30 32 23 19 20 30 41 21 22 32 34 21 1...  Training\n",
            "4        6  4 0 0 0 0 0 0 0 0 0 0 0 3 15 23 28 48 50 58 84...  Training\n",
            "35887\n"
          ],
          "name": "stdout"
        }
      ]
    },
    {
      "cell_type": "code",
      "metadata": {
        "id": "rcxCrmCw2Jqy"
      },
      "source": [
        "import numpy as np\n",
        "xtrain=[]\n",
        "ytrain=[]\n",
        "tr0,tr1,tr2,tr3,tr4,tr5,tr6=0,0,0,0,0,0,0\n",
        "\n",
        "xtest=[]\n",
        "ytest=[]\n",
        "t,t0,t1,t2,t3,t4,t5,t6=0,0,0,0,0,0,0,0\n",
        "\n",
        "\n",
        "for index, row in df.iterrows():\n",
        "  if t==2800: #total images\n",
        "    break\n",
        "  val=row['pixels'].split(\" \")\n",
        "    \n",
        "  if 'Training' in row['Usage']:\n",
        "    if tr0<300 and row['emotion']==0:\n",
        "      xtrain.append(np.array(val, dtype=np.float32))\n",
        "      ytrain.append(0)\n",
        "      tr0+=1\n",
        "      t+=1\n",
        "    elif tr1<300 and row['emotion']==1:\n",
        "      xtrain.append(np.array(val, dtype=np.float32))\n",
        "      ytrain.append(1)\n",
        "      tr1+=1\n",
        "      t+=1\n",
        "    elif tr2<300 and row['emotion']==2:\n",
        "      xtrain.append(np.array(val, dtype=np.float32))\n",
        "      ytrain.append(2)\n",
        "      tr2+=1\n",
        "      t+=1\n",
        "    elif tr3<300 and row['emotion']==3:\n",
        "      xtrain.append(np.array(val, dtype=np.float32))\n",
        "      ytrain.append(3)\n",
        "      tr3+=1\n",
        "      t+=1\n",
        "    elif tr4<300 and row['emotion']==4:\n",
        "      xtrain.append(np.array(val, dtype=np.float32))\n",
        "      ytrain.append(4)\n",
        "      tr4+=1\n",
        "      t+=1\n",
        "    elif tr5<300 and row['emotion']==5:\n",
        "      xtrain.append(np.array(val, dtype=np.float32))\n",
        "      ytrain.append(5)\n",
        "      tr5+=1\n",
        "      t+=1\n",
        "    elif tr6<300 and row['emotion']==6:\n",
        "      xtrain.append(np.array(val, dtype=np.float32))\n",
        "      ytrain.append(6)\n",
        "      tr6+=1\n",
        "      t+=1\n",
        "      \n",
        "  elif 'Test' in row['Usage']:\n",
        "    if t0<100 and row['emotion']==0:\n",
        "      xtest.append(np.array(val, dtype=np.float32))\n",
        "      ytest.append(0)\n",
        "      t0+=1\n",
        "      t+=1\n",
        "    elif t1<100 and row['emotion']==1:\n",
        "      xtest.append(np.array(val, dtype=np.float32))\n",
        "      ytest.append(1)\n",
        "      t1+=1\n",
        "      t+=1\n",
        "    elif t2<100 and row['emotion']==2:\n",
        "      xtest.append(np.array(val, dtype=np.float32))\n",
        "      ytest.append(2)\n",
        "      t2+=1\n",
        "      t+=1\n",
        "    elif t3<100 and row['emotion']==3:\n",
        "      xtest.append(np.array(val, dtype=np.float32))\n",
        "      ytest.append(3)\n",
        "      t3+=1\n",
        "      t+=1\n",
        "    elif t4<100 and row['emotion']==4:\n",
        "      xtest.append(np.array(val, dtype=np.float32))\n",
        "      ytest.append(4)\n",
        "      t4+=1\n",
        "      t+=1\n",
        "    elif t5<100 and row['emotion']==5:\n",
        "      xtest.append(np.array(val, dtype=np.float32))\n",
        "      ytest.append(5)\n",
        "      t5+=1\n",
        "      t+=1\n",
        "    elif t6<100 and row['emotion']==6:\n",
        "      xtest.append(np.array(val, dtype=np.float32))\n",
        "      ytest.append(6)\n",
        "      t6+=1\n",
        "      t+=1\n",
        "    \n",
        "   \n",
        "   "
      ],
      "execution_count": null,
      "outputs": []
    },
    {
      "cell_type": "code",
      "metadata": {
        "id": "ltWFKo8Drqbs",
        "colab": {
          "base_uri": "https://localhost:8080/",
          "height": 51
        },
        "outputId": "9be2a6f4-2883-492e-c0f1-ea80afb2be59"
      },
      "source": [
        "\n",
        "xtrain = np.array(xtrain,'float32')\n",
        "ytrain = np.array(ytrain,'float32')\n",
        "xtest = np.array(xtest,'float32')\n",
        "ytest = np.array(ytest,'float32')\n",
        "print(xtrain.shape)\n",
        "print(xtest.shape)"
      ],
      "execution_count": null,
      "outputs": [
        {
          "output_type": "stream",
          "text": [
            "(2100, 2304)\n",
            "(700, 2304)\n"
          ],
          "name": "stdout"
        }
      ]
    },
    {
      "cell_type": "code",
      "metadata": {
        "id": "-b8o-Otms9f4"
      },
      "source": [
        "\n",
        "#normalizing data between oand 1\n",
        "xtrain -= np.mean(xtrain, axis=0)\n",
        "xtrain /= np.std(xtrain, axis=0)\n",
        "\n",
        "xtest -= np.mean(xtest, axis=0)\n",
        "xtest /= np.std(xtest, axis=0)\n",
        "\n",
        "xtrain = xtrain.reshape(xtrain.shape[0], 48, 48, 1)\n",
        "\n",
        "xtest = xtest.reshape(xtest.shape[0], 48, 48, 1)"
      ],
      "execution_count": null,
      "outputs": []
    },
    {
      "cell_type": "code",
      "metadata": {
        "id": "8mwpBUj9srQm",
        "colab": {
          "base_uri": "https://localhost:8080/",
          "height": 731
        },
        "outputId": "713b3830-b538-47d8-a471-aa2eefaae5a0"
      },
      "source": [
        "# from keras.models import Sequential\n",
        "# from keras.layers import Conv2D, MaxPooling2D, Dropout,Dense, Flatten\n",
        "\n",
        "num_labels = 7\n",
        "##designing the cnn\n",
        "#1st convolution layer\n",
        "model = Sequential()\n",
        "\n",
        "model.add(Conv2D(64, kernel_size=(3, 3), activation='relu', input_shape=(xtrain.shape[1:])))\n",
        "model.add(Conv2D(64,kernel_size= (3, 3), activation='relu'))\n",
        "# model.add(BatchNormalization())\n",
        "model.add(MaxPooling2D(pool_size=(2,2), strides=(2, 2)))\n",
        "model.add(Dropout(0.5))\n",
        "\n",
        "#2nd convolution layer\n",
        "model.add(Conv2D(64, (3, 3), activation='relu'))\n",
        "model.add(Conv2D(64, (3, 3), activation='relu'))\n",
        "# model.add(BatchNormalization())\n",
        "model.add(MaxPooling2D(pool_size=(2,2), strides=(2, 2)))\n",
        "model.add(Dropout(0.5))\n",
        "\n",
        "#3rd convolution layer\n",
        "model.add(Conv2D(128, (3, 3), activation='relu'))\n",
        "model.add(Conv2D(128, (3, 3), activation='relu'))\n",
        "# model.add(BatchNormalization())\n",
        "model.add(MaxPooling2D(pool_size=(2,2), strides=(2, 2)))\n",
        "\n",
        "model.add(Flatten())\n",
        "\n",
        "#fully connected neural networks\n",
        "model.add(Dense(1024, activation='relu'))\n",
        "model.add(Dropout(0.2))\n",
        "model.add(Dense(1024, activation='relu'))\n",
        "model.add(Dropout(0.2))\n",
        "\n",
        "model.add(Dense(num_labels, activation='softmax'))\n",
        "\n",
        "model.summary()\n",
        "\n"
      ],
      "execution_count": null,
      "outputs": [
        {
          "output_type": "stream",
          "text": [
            "Model: \"sequential_6\"\n",
            "_________________________________________________________________\n",
            "Layer (type)                 Output Shape              Param #   \n",
            "=================================================================\n",
            "conv2d_36 (Conv2D)           (None, 46, 46, 64)        640       \n",
            "_________________________________________________________________\n",
            "conv2d_37 (Conv2D)           (None, 44, 44, 64)        36928     \n",
            "_________________________________________________________________\n",
            "max_pooling2d_18 (MaxPooling (None, 22, 22, 64)        0         \n",
            "_________________________________________________________________\n",
            "dropout_24 (Dropout)         (None, 22, 22, 64)        0         \n",
            "_________________________________________________________________\n",
            "conv2d_38 (Conv2D)           (None, 20, 20, 64)        36928     \n",
            "_________________________________________________________________\n",
            "conv2d_39 (Conv2D)           (None, 18, 18, 64)        36928     \n",
            "_________________________________________________________________\n",
            "max_pooling2d_19 (MaxPooling (None, 9, 9, 64)          0         \n",
            "_________________________________________________________________\n",
            "dropout_25 (Dropout)         (None, 9, 9, 64)          0         \n",
            "_________________________________________________________________\n",
            "conv2d_40 (Conv2D)           (None, 7, 7, 128)         73856     \n",
            "_________________________________________________________________\n",
            "conv2d_41 (Conv2D)           (None, 5, 5, 128)         147584    \n",
            "_________________________________________________________________\n",
            "max_pooling2d_20 (MaxPooling (None, 2, 2, 128)         0         \n",
            "_________________________________________________________________\n",
            "flatten_6 (Flatten)          (None, 512)               0         \n",
            "_________________________________________________________________\n",
            "dense_18 (Dense)             (None, 1024)              525312    \n",
            "_________________________________________________________________\n",
            "dropout_26 (Dropout)         (None, 1024)              0         \n",
            "_________________________________________________________________\n",
            "dense_19 (Dense)             (None, 1024)              1049600   \n",
            "_________________________________________________________________\n",
            "dropout_27 (Dropout)         (None, 1024)              0         \n",
            "_________________________________________________________________\n",
            "dense_20 (Dense)             (None, 7)                 7175      \n",
            "=================================================================\n",
            "Total params: 1,914,951\n",
            "Trainable params: 1,914,951\n",
            "Non-trainable params: 0\n",
            "_________________________________________________________________\n"
          ],
          "name": "stdout"
        }
      ]
    },
    {
      "cell_type": "code",
      "metadata": {
        "id": "55scNYHquYG1"
      },
      "source": [
        "# from keras.losses import categorical_crossentropy\n",
        "from keras.optimizers import Adam\n",
        "\n",
        "#Compliling the model\n",
        "model.compile(loss=categorical_crossentropy,\n",
        "              optimizer=Adam(),\n",
        "              metrics=['accuracy'])"
      ],
      "execution_count": null,
      "outputs": []
    },
    {
      "cell_type": "code",
      "metadata": {
        "id": "UQ1sUIjlt1uk"
      },
      "source": [
        "# from keras.utils import np_utils\n",
        "ytrain=np_utils.to_categorical(ytrain, num_classes=num_labels)\n",
        "ytest=np_utils.to_categorical(ytest, num_classes=num_labels)"
      ],
      "execution_count": null,
      "outputs": []
    },
    {
      "cell_type": "code",
      "metadata": {
        "id": "zDNB6Nyhu6Wj",
        "colab": {
          "base_uri": "https://localhost:8080/",
          "height": 1000
        },
        "outputId": "c956fbe6-dc47-4db9-83aa-8fd1d1b18de6"
      },
      "source": [
        "\n",
        "batch_size = 64\n",
        "epochs = 30\n",
        "\n",
        "\n",
        "his=model.fit(xtrain, ytrain,\n",
        "          batch_size=batch_size,\n",
        "          epochs=epochs,\n",
        "          verbose=1,\n",
        "          validation_data=(xtest, ytest),\n",
        "          shuffle=True)\n",
        "\n",
        "\n",
        "#Saving the  model to  use it later on\n",
        "fer_json = model.to_json()\n",
        "with open(\"fer.json\", \"w\") as json_file:\n",
        "    json_file.write(fer_json)\n",
        "model.save_weights(\"fer.h5\")"
      ],
      "execution_count": null,
      "outputs": [
        {
          "output_type": "stream",
          "text": [
            "Epoch 1/30\n",
            "33/33 [==============================] - 42s 1s/step - loss: 0.4634 - accuracy: 0.8557 - val_loss: 2.6676 - val_accuracy: 0.3657\n",
            "Epoch 2/30\n",
            "33/33 [==============================] - 42s 1s/step - loss: 0.3819 - accuracy: 0.8681 - val_loss: 3.1084 - val_accuracy: 0.3586\n",
            "Epoch 3/30\n",
            "33/33 [==============================] - 42s 1s/step - loss: 0.4050 - accuracy: 0.8576 - val_loss: 2.9854 - val_accuracy: 0.3700\n",
            "Epoch 4/30\n",
            "33/33 [==============================] - 42s 1s/step - loss: 0.3581 - accuracy: 0.8800 - val_loss: 3.0489 - val_accuracy: 0.3629\n",
            "Epoch 5/30\n",
            "33/33 [==============================] - 42s 1s/step - loss: 0.3097 - accuracy: 0.9005 - val_loss: 3.1239 - val_accuracy: 0.3700\n",
            "Epoch 6/30\n",
            "33/33 [==============================] - 42s 1s/step - loss: 0.2385 - accuracy: 0.9181 - val_loss: 3.5867 - val_accuracy: 0.3457\n",
            "Epoch 7/30\n",
            "33/33 [==============================] - 42s 1s/step - loss: 0.2313 - accuracy: 0.9195 - val_loss: 3.7884 - val_accuracy: 0.3657\n",
            "Epoch 8/30\n",
            "33/33 [==============================] - 42s 1s/step - loss: 0.2840 - accuracy: 0.9010 - val_loss: 3.4657 - val_accuracy: 0.3586\n",
            "Epoch 9/30\n",
            "33/33 [==============================] - 42s 1s/step - loss: 0.2545 - accuracy: 0.9148 - val_loss: 3.3163 - val_accuracy: 0.3571\n",
            "Epoch 10/30\n",
            "33/33 [==============================] - 42s 1s/step - loss: 0.2330 - accuracy: 0.9267 - val_loss: 3.4294 - val_accuracy: 0.3800\n",
            "Epoch 11/30\n",
            "33/33 [==============================] - 42s 1s/step - loss: 0.2280 - accuracy: 0.9281 - val_loss: 3.9265 - val_accuracy: 0.3557\n",
            "Epoch 12/30\n",
            "33/33 [==============================] - 42s 1s/step - loss: 0.2406 - accuracy: 0.9138 - val_loss: 3.7146 - val_accuracy: 0.3514\n",
            "Epoch 13/30\n",
            "33/33 [==============================] - 42s 1s/step - loss: 0.2008 - accuracy: 0.9329 - val_loss: 3.7232 - val_accuracy: 0.3600\n",
            "Epoch 14/30\n",
            "33/33 [==============================] - 42s 1s/step - loss: 0.1835 - accuracy: 0.9381 - val_loss: 3.9954 - val_accuracy: 0.3600\n",
            "Epoch 15/30\n",
            "33/33 [==============================] - 43s 1s/step - loss: 0.1934 - accuracy: 0.9390 - val_loss: 3.5903 - val_accuracy: 0.3557\n",
            "Epoch 16/30\n",
            "33/33 [==============================] - 42s 1s/step - loss: 0.1969 - accuracy: 0.9319 - val_loss: 3.6294 - val_accuracy: 0.3671\n",
            "Epoch 17/30\n",
            "33/33 [==============================] - 43s 1s/step - loss: 0.1595 - accuracy: 0.9457 - val_loss: 3.7659 - val_accuracy: 0.3614\n",
            "Epoch 18/30\n",
            "33/33 [==============================] - 42s 1s/step - loss: 0.1561 - accuracy: 0.9538 - val_loss: 4.0398 - val_accuracy: 0.3600\n",
            "Epoch 19/30\n",
            "33/33 [==============================] - 42s 1s/step - loss: 0.1516 - accuracy: 0.9529 - val_loss: 3.6415 - val_accuracy: 0.3543\n",
            "Epoch 20/30\n",
            "33/33 [==============================] - 42s 1s/step - loss: 0.1632 - accuracy: 0.9429 - val_loss: 3.7839 - val_accuracy: 0.3800\n",
            "Epoch 21/30\n",
            "33/33 [==============================] - 42s 1s/step - loss: 0.1676 - accuracy: 0.9481 - val_loss: 3.9309 - val_accuracy: 0.3729\n",
            "Epoch 22/30\n",
            "33/33 [==============================] - 43s 1s/step - loss: 0.1900 - accuracy: 0.9338 - val_loss: 3.5401 - val_accuracy: 0.3557\n",
            "Epoch 23/30\n",
            "33/33 [==============================] - 42s 1s/step - loss: 0.1194 - accuracy: 0.9657 - val_loss: 4.1369 - val_accuracy: 0.3743\n",
            "Epoch 24/30\n",
            "33/33 [==============================] - 42s 1s/step - loss: 0.1416 - accuracy: 0.9562 - val_loss: 3.8895 - val_accuracy: 0.3757\n",
            "Epoch 25/30\n",
            "33/33 [==============================] - 42s 1s/step - loss: 0.1392 - accuracy: 0.9614 - val_loss: 3.6775 - val_accuracy: 0.3571\n",
            "Epoch 26/30\n",
            "33/33 [==============================] - 42s 1s/step - loss: 0.1093 - accuracy: 0.9652 - val_loss: 4.3156 - val_accuracy: 0.3529\n",
            "Epoch 27/30\n",
            "33/33 [==============================] - 42s 1s/step - loss: 0.1139 - accuracy: 0.9648 - val_loss: 4.2506 - val_accuracy: 0.3614\n",
            "Epoch 28/30\n",
            "33/33 [==============================] - 42s 1s/step - loss: 0.1451 - accuracy: 0.9538 - val_loss: 3.8071 - val_accuracy: 0.3771\n",
            "Epoch 29/30\n",
            "33/33 [==============================] - 42s 1s/step - loss: 0.1156 - accuracy: 0.9638 - val_loss: 3.9289 - val_accuracy: 0.3686\n",
            "Epoch 30/30\n",
            "33/33 [==============================] - 42s 1s/step - loss: 0.0952 - accuracy: 0.9705 - val_loss: 4.2865 - val_accuracy: 0.3600\n"
          ],
          "name": "stdout"
        }
      ]
    },
    {
      "cell_type": "code",
      "metadata": {
        "id": "aBlK_Z6WH6wy",
        "colab": {
          "base_uri": "https://localhost:8080/",
          "height": 329
        },
        "outputId": "28755fdb-7f32-48bc-fd3b-01ec6a78f104"
      },
      "source": [
        "import matplotlib.pyplot as plt\n",
        "train_acc =his.history['accuracy']\n",
        "\n",
        "val_acc = his.history['val_accuracy']\n",
        "epochs = range(len(train_acc))\n",
        "\n",
        "plt.plot(epochs, train_acc, 'r', label='Training accuracy')\n",
        "plt.plot(epochs, val_acc, 'b', label='Validation accuracy')\n",
        "plt.title('Training and validation accuracy')\n",
        "plt.xlabel('Epochs')\n",
        "plt.ylabel('Accuracy')\n",
        "plt.legend(loc=0)\n",
        "plt.figure()"
      ],
      "execution_count": null,
      "outputs": [
        {
          "output_type": "execute_result",
          "data": {
            "text/plain": [
              "<Figure size 432x288 with 0 Axes>"
            ]
          },
          "metadata": {
            "tags": []
          },
          "execution_count": 68
        },
        {
          "output_type": "display_data",
          "data": {
            "image/png": "[encoded data removed]",
            "text/plain": [
              "<Figure size 432x288 with 1 Axes>"
            ]
          },
          "metadata": {
            "tags": [],
            "needs_background": "light"
          }
        },
        {
          "output_type": "display_data",
          "data": {
            "text/plain": [
              "<Figure size 432x288 with 0 Axes>"
            ]
          },
          "metadata": {
            "tags": []
          }
        }
      ]
    },
    {
      "cell_type": "code",
      "metadata": {
        "id": "1q_BCj00I2RN",
        "colab": {
          "base_uri": "https://localhost:8080/",
          "height": 51
        },
        "outputId": "f6983c88-ded7-444f-892a-da5a57387fd4"
      },
      "source": [
        "test_loss, test_accuracy = model.evaluate(xtest, ytest)\n",
        "print(test_accuracy)"
      ],
      "execution_count": null,
      "outputs": [
        {
          "output_type": "stream",
          "text": [
            "22/22 [==============================] - 3s 138ms/step - loss: 4.2865 - accuracy: 0.3600\n",
            "0.36000001430511475\n"
          ],
          "name": "stdout"
        }
      ]
    }
  ]
}