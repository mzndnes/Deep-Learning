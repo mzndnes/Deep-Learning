{
  "nbformat": 4,
  "nbformat_minor": 0,
  "metadata": {
    "colab": {
      "name": "fv_facenet.ipynb",
      "provenance": [],
      "mount_file_id": "1NsG220TEcVisf8fcbcxQ4fXumfXeXCen",
      "authorship_tag": "ABX9TyMHe3R4OVlM91ianRhDri8+",
      "include_colab_link": true
    },
    "kernelspec": {
      "name": "python3",
      "display_name": "Python 3"
    }
  },
  "cells": [
    {
      "cell_type": "markdown",
      "metadata": {
        "id": "view-in-github",
        "colab_type": "text"
      },
      "source": [
        "<a href=\"https://colab.research.google.com/github/mzndnes/Deep-Learning/blob/main/face-verification_facenet.ipynb\" target=\"_parent\"><img src=\"https://colab.research.google.com/assets/colab-badge.svg\" alt=\"Open In Colab\"/></a>"
      ]
    },
    {
      "cell_type": "markdown",
      "metadata": {
        "id": "og-5qXRyhiSS"
      },
      "source": [
        "Face Verification with facenet"
      ]
    },
    {
      "cell_type": "code",
      "metadata": {
        "id": "P4wKB0Azbstu"
      },
      "source": [
        "import cv2\n",
        "import numpy as np\n",
        "import os\n",
        "import tensorflow as tf"
      ],
      "execution_count": null,
      "outputs": []
    },
    {
      "cell_type": "code",
      "metadata": {
        "id": "tPia1aVVj6d7"
      },
      "source": [
        "from tensorflow.keras.models import load_model\n",
        "\n",
        "class emb:\n",
        "    def __init__(self):\n",
        "        self.model=load_model('./drive/My Drive/data/facenet_keras.h5',compile=False)\n",
        "    def calculate(self,img):\n",
        "        return self.model.predict(img)[0]"
      ],
      "execution_count": null,
      "outputs": []
    },
    {
      "cell_type": "code",
      "metadata": {
        "id": "jIK7lkcIb-wG"
      },
      "source": [
        "def readimg(tr_t):\n",
        "    # get current directory\n",
        "    # curpath = os.path.abspath(os.getcwd())\n",
        "    curpath='./drive/My Drive/images'\n",
        "    # get directory of images to be read\n",
        "    img_dir = os.path.join(curpath,  'actors_' + tr_t)\n",
        "    # get list of sub directories\n",
        "    dirs = os.listdir(img_dir)\n",
        "\n",
        "    face_img = []\n",
        "    lble = []\n",
        "    cl = 0\n",
        "\n",
        "    for dr in dirs:\n",
        "        \n",
        "\n",
        "        fl_dr = os.path.join(img_dir, dr)\n",
        "        files = os.listdir(fl_dr)\n",
        "\n",
        "        for fl in files:\n",
        "            fl_nm = os.path.join(fl_dr, fl)\n",
        "            img = cv2.imread(fl_nm, 1)\n",
        "            img = cv2.resize(img, (160, 160))\n",
        "            face_img.append(img)\n",
        "            lble.append(cl)\n",
        "\n",
        "        cl += 1\n",
        "\n",
        "    # return the array of faces and corresponding labels\n",
        "    return np.array(face_img), np.array(lble)\n"
      ],
      "execution_count": null,
      "outputs": []
    },
    {
      "cell_type": "code",
      "metadata": {
        "id": "0UhjPCBAeafW"
      },
      "source": [
        "import scipy.stats as stats\n",
        "\n",
        "#incorrect value of nc may arise which is outside the valid range of [0, 5)\n",
        "nc=6\n",
        "dr = 'tr'\n",
        "x_train, y_train = readimg(dr)\n",
        "x_train_emb = []\n",
        "\n",
        "e=emb()\n",
        "\n",
        "for x in x_train:\n",
        "    \n",
        "    # img = x.astype('float') / 255.0\n",
        "    img = np.expand_dims(x, axis=0)\n",
        "    embs = e.calculate(img)\n",
        "    x_train_emb.append(embs)\n",
        "x_train_emb = np.array(x_train_emb, dtype='float')\n",
        "\n",
        "dr = 't'\n",
        "x_test, y_test = readimg(dr)\n",
        "x_test_emb=[]\n",
        "\n",
        "\n",
        "for x in x_test:\n",
        "    # img = x.astype('float') / 255.0\n",
        "    img = np.expand_dims(x, axis=0)\n",
        "    embs = e.calculate(img)\n",
        "    x_test_emb.append(embs)\n",
        "x_test_emb = np.array(x_test_emb, dtype='float') \n",
        "\n"
      ],
      "execution_count": null,
      "outputs": []
    },
    {
      "cell_type": "code",
      "metadata": {
        "colab": {
          "base_uri": "https://localhost:8080/"
        },
        "id": "snTclvtVqUK0",
        "outputId": "3cc60082-7424-4931-ac77-79101fe6e9ab"
      },
      "source": [
        "tp=0\n",
        "tn=0\n",
        "eu_dist=[]\n",
        "for i in range(len(x_test_emb)):\n",
        "  eu_dist.append(np.linalg.norm(x_train_emb[i]-x_test_emb[i]))\n",
        "  \n",
        "\n",
        "eu_dist=np.array(eu_dist)\n",
        "eu_exp=np.exp(eu_dist)\n",
        "sum_exp=np.sum(eu_exp)\n",
        "eu_softmax=eu_exp/sum_exp\n",
        "# print(eu_dist)\n",
        "# mn=np.min(eu_dist)\n",
        "# mx=np.max(eu_dist)\n",
        "# print(mn)\n",
        "# r=mx-mn\n",
        "# eu_dist=(eu_dist-mn)/r\n",
        "# eu_dist=stats.zscore(eu_dist)\n",
        "print(eu_dist)\n",
        "\n",
        "for d in eu_softmax:\n",
        "  if d<0.5:\n",
        "    tp=tp+1\n",
        "  else:\n",
        "    tn=tn+1\n",
        "\n",
        "print('Test loss: {}, Test accuracy: {}'.format(tn/len(x_test_emb)*100, tp/len(x_test_emb) * 100))\n",
        "\n",
        "\n",
        "\n"
      ],
      "execution_count": null,
      "outputs": [
        {
          "output_type": "stream",
          "text": [
            "[5.66616237 7.98689862 7.11248283 6.76714058 4.16244573 5.54223918]\n",
            "Test loss: 16.666666666666664, Test accuracy: 83.33333333333334\n"
          ],
          "name": "stdout"
        }
      ]
    }
  ]
}